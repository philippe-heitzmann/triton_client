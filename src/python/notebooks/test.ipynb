{
 "cells": [
  {
   "cell_type": "code",
   "execution_count": 5,
   "metadata": {},
   "outputs": [],
   "source": [
    "import pandas as pd"
   ]
  },
  {
   "cell_type": "code",
   "execution_count": 1,
   "metadata": {},
   "outputs": [
    {
     "name": "stdout",
     "output_type": "stream",
     "text": [
      "c:\\Python310\\python.exe\n"
     ]
    }
   ],
   "source": [
    "import sys\n",
    "\n",
    "print(sys.executable)"
   ]
  },
  {
   "cell_type": "code",
   "execution_count": 7,
   "metadata": {},
   "outputs": [
    {
     "name": "stdout",
     "output_type": "stream",
     "text": [
      "Requirement already satisfied: tritonclient[all] in c:\\python310\\lib\\site-packages (2.27.0)\n",
      "Requirement already satisfied: python-rapidjson>=0.9.1 in c:\\python310\\lib\\site-packages (from tritonclient[all]) (1.9)\n",
      "Requirement already satisfied: numpy>=1.19.1 in c:\\python310\\lib\\site-packages (from tritonclient[all]) (1.22.1)\n",
      "Requirement already satisfied: grpcio==1.41.0 in c:\\users\\phil0\\appdata\\roaming\\python\\python310\\site-packages (from tritonclient[all]) (1.41.0)\n",
      "Requirement already satisfied: protobuf<3.20,>=3.5.0 in c:\\users\\phil0\\appdata\\roaming\\python\\python310\\site-packages (from tritonclient[all]) (3.19.6)\n",
      "Requirement already satisfied: aiohttp>=3.8.1 in c:\\users\\phil0\\appdata\\roaming\\python\\python310\\site-packages (from tritonclient[all]) (3.8.3)\n",
      "Requirement already satisfied: geventhttpclient<=2.0.2,>=1.4.4 in c:\\users\\phil0\\appdata\\roaming\\python\\python310\\site-packages (from tritonclient[all]) (2.0.2)\n",
      "Requirement already satisfied: six>=1.5.2 in c:\\python310\\lib\\site-packages (from grpcio==1.41.0->tritonclient[all]) (1.16.0)\n",
      "Requirement already satisfied: aiosignal>=1.1.2 in c:\\python310\\lib\\site-packages (from aiohttp>=3.8.1->tritonclient[all]) (1.3.1)\n",
      "Requirement already satisfied: frozenlist>=1.1.1 in c:\\python310\\lib\\site-packages (from aiohttp>=3.8.1->tritonclient[all]) (1.3.3)\n",
      "Requirement already satisfied: attrs>=17.3.0 in c:\\python310\\lib\\site-packages (from aiohttp>=3.8.1->tritonclient[all]) (22.1.0)\n",
      "Requirement already satisfied: async-timeout<5.0,>=4.0.0a3 in c:\\python310\\lib\\site-packages (from aiohttp>=3.8.1->tritonclient[all]) (4.0.2)\n",
      "Requirement already satisfied: charset-normalizer<3.0,>=2.0 in c:\\python310\\lib\\site-packages (from aiohttp>=3.8.1->tritonclient[all]) (2.0.10)\n",
      "Requirement already satisfied: yarl<2.0,>=1.0 in c:\\python310\\lib\\site-packages (from aiohttp>=3.8.1->tritonclient[all]) (1.8.1)\n",
      "Requirement already satisfied: multidict<7.0,>=4.5 in c:\\python310\\lib\\site-packages (from aiohttp>=3.8.1->tritonclient[all]) (6.0.2)\n",
      "Requirement already satisfied: certifi in c:\\users\\phil0\\appdata\\roaming\\python\\python310\\site-packages (from geventhttpclient<=2.0.2,>=1.4.4->tritonclient[all]) (2021.10.8)\n",
      "Requirement already satisfied: brotli in c:\\python310\\lib\\site-packages (from geventhttpclient<=2.0.2,>=1.4.4->tritonclient[all]) (1.0.9)\n",
      "Requirement already satisfied: gevent>=0.13 in c:\\python310\\lib\\site-packages (from geventhttpclient<=2.0.2,>=1.4.4->tritonclient[all]) (22.10.2)\n",
      "Requirement already satisfied: cffi>=1.12.2 in c:\\python310\\lib\\site-packages (from gevent>=0.13->geventhttpclient<=2.0.2,>=1.4.4->tritonclient[all]) (1.15.1)\n",
      "Requirement already satisfied: setuptools in c:\\python310\\lib\\site-packages (from gevent>=0.13->geventhttpclient<=2.0.2,>=1.4.4->tritonclient[all]) (58.1.0)\n",
      "Requirement already satisfied: greenlet>=2.0.0 in c:\\python310\\lib\\site-packages (from gevent>=0.13->geventhttpclient<=2.0.2,>=1.4.4->tritonclient[all]) (2.0.1)\n",
      "Requirement already satisfied: zope.interface in c:\\python310\\lib\\site-packages (from gevent>=0.13->geventhttpclient<=2.0.2,>=1.4.4->tritonclient[all]) (5.5.1)\n",
      "Requirement already satisfied: zope.event in c:\\python310\\lib\\site-packages (from gevent>=0.13->geventhttpclient<=2.0.2,>=1.4.4->tritonclient[all]) (4.5.0)\n",
      "Requirement already satisfied: idna>=2.0 in c:\\python310\\lib\\site-packages (from yarl<2.0,>=1.0->aiohttp>=3.8.1->tritonclient[all]) (3.3)\n",
      "Requirement already satisfied: pycparser in c:\\python310\\lib\\site-packages (from cffi>=1.12.2->gevent>=0.13->geventhttpclient<=2.0.2,>=1.4.4->tritonclient[all]) (2.21)\n"
     ]
    },
    {
     "name": "stderr",
     "output_type": "stream",
     "text": [
      "WARNING: Ignoring invalid distribution -ip (c:\\python310\\lib\\site-packages)\n",
      "WARNING: Ignoring invalid distribution -ip (c:\\python310\\lib\\site-packages)\n",
      "WARNING: Ignoring invalid distribution -ip (c:\\python310\\lib\\site-packages)\n",
      "WARNING: Ignoring invalid distribution -ip (c:\\python310\\lib\\site-packages)\n",
      "WARNING: You are using pip version 21.3.1; however, version 22.3.1 is available.\n",
      "You should consider upgrading via the 'C:\\Python310\\python.exe -m pip install --upgrade pip' command.\n"
     ]
    }
   ],
   "source": [
    "!pip install tritonclient[all]"
   ]
  },
  {
   "cell_type": "code",
   "execution_count": 2,
   "metadata": {},
   "outputs": [
    {
     "name": "stdout",
     "output_type": "stream",
     "text": [
      "Requirement already satisfied: tritonclient[all] in c:\\python310\\lib\\site-packages (2.27.0)\n",
      "Requirement already satisfied: python-rapidjson>=0.9.1 in c:\\python310\\lib\\site-packages (from tritonclient[all]) (1.9)\n",
      "Requirement already satisfied: numpy>=1.19.1 in c:\\python310\\lib\\site-packages (from tritonclient[all]) (1.22.1)\n",
      "Requirement already satisfied: grpcio==1.41.0 in c:\\users\\phil0\\appdata\\roaming\\python\\python310\\site-packages (from tritonclient[all]) (1.41.0)\n",
      "Requirement already satisfied: geventhttpclient<=2.0.2,>=1.4.4 in c:\\users\\phil0\\appdata\\roaming\\python\\python310\\site-packages (from tritonclient[all]) (2.0.2)\n",
      "Requirement already satisfied: protobuf<3.20,>=3.5.0 in c:\\users\\phil0\\appdata\\roaming\\python\\python310\\site-packages (from tritonclient[all]) (3.19.6)\n",
      "Requirement already satisfied: aiohttp>=3.8.1 in c:\\users\\phil0\\appdata\\roaming\\python\\python310\\site-packages (from tritonclient[all]) (3.8.3)\n",
      "Requirement already satisfied: six>=1.5.2 in c:\\python310\\lib\\site-packages (from grpcio==1.41.0->tritonclient[all]) (1.16.0)\n",
      "Requirement already satisfied: aiosignal>=1.1.2 in c:\\python310\\lib\\site-packages (from aiohttp>=3.8.1->tritonclient[all]) (1.3.1)\n",
      "Requirement already satisfied: attrs>=17.3.0 in c:\\python310\\lib\\site-packages (from aiohttp>=3.8.1->tritonclient[all]) (22.1.0)\n",
      "Requirement already satisfied: async-timeout<5.0,>=4.0.0a3 in c:\\python310\\lib\\site-packages (from aiohttp>=3.8.1->tritonclient[all]) (4.0.2)\n",
      "Requirement already satisfied: charset-normalizer<3.0,>=2.0 in c:\\python310\\lib\\site-packages (from aiohttp>=3.8.1->tritonclient[all]) (2.0.10)\n",
      "Requirement already satisfied: multidict<7.0,>=4.5 in c:\\python310\\lib\\site-packages (from aiohttp>=3.8.1->tritonclient[all]) (6.0.2)\n",
      "Requirement already satisfied: yarl<2.0,>=1.0 in c:\\python310\\lib\\site-packages (from aiohttp>=3.8.1->tritonclient[all]) (1.8.1)\n",
      "Requirement already satisfied: frozenlist>=1.1.1 in c:\\python310\\lib\\site-packages (from aiohttp>=3.8.1->tritonclient[all]) (1.3.3)\n",
      "Requirement already satisfied: gevent>=0.13 in c:\\python310\\lib\\site-packages (from geventhttpclient<=2.0.2,>=1.4.4->tritonclient[all]) (22.10.2)\n",
      "Requirement already satisfied: brotli in c:\\python310\\lib\\site-packages (from geventhttpclient<=2.0.2,>=1.4.4->tritonclient[all]) (1.0.9)\n",
      "Requirement already satisfied: certifi in c:\\users\\phil0\\appdata\\roaming\\python\\python310\\site-packages (from geventhttpclient<=2.0.2,>=1.4.4->tritonclient[all]) (2021.10.8)\n",
      "Requirement already satisfied: zope.event in c:\\python310\\lib\\site-packages (from gevent>=0.13->geventhttpclient<=2.0.2,>=1.4.4->tritonclient[all]) (4.5.0)\n",
      "Requirement already satisfied: greenlet>=2.0.0 in c:\\python310\\lib\\site-packages (from gevent>=0.13->geventhttpclient<=2.0.2,>=1.4.4->tritonclient[all]) (2.0.1)\n",
      "Requirement already satisfied: setuptools in c:\\python310\\lib\\site-packages (from gevent>=0.13->geventhttpclient<=2.0.2,>=1.4.4->tritonclient[all]) (58.1.0)\n",
      "Requirement already satisfied: cffi>=1.12.2 in c:\\python310\\lib\\site-packages (from gevent>=0.13->geventhttpclient<=2.0.2,>=1.4.4->tritonclient[all]) (1.15.1)\n",
      "Requirement already satisfied: zope.interface in c:\\python310\\lib\\site-packages (from gevent>=0.13->geventhttpclient<=2.0.2,>=1.4.4->tritonclient[all]) (5.5.1)\n",
      "Requirement already satisfied: idna>=2.0 in c:\\python310\\lib\\site-packages (from yarl<2.0,>=1.0->aiohttp>=3.8.1->tritonclient[all]) (3.3)\n",
      "Requirement already satisfied: pycparser in c:\\python310\\lib\\site-packages (from cffi>=1.12.2->gevent>=0.13->geventhttpclient<=2.0.2,>=1.4.4->tritonclient[all]) (2.21)\n"
     ]
    },
    {
     "name": "stderr",
     "output_type": "stream",
     "text": [
      "WARNING: Ignoring invalid distribution -ip (c:\\python310\\lib\\site-packages)\n",
      "WARNING: Ignoring invalid distribution -ip (c:\\python310\\lib\\site-packages)\n",
      "WARNING: Ignoring invalid distribution -ip (c:\\python310\\lib\\site-packages)\n",
      "WARNING: Ignoring invalid distribution -ip (c:\\python310\\lib\\site-packages)\n",
      "WARNING: You are using pip version 21.3.1; however, version 22.3.1 is available.\n",
      "You should consider upgrading via the 'C:\\Python310\\python.exe -m pip install --upgrade pip' command.\n"
     ]
    },
    {
     "ename": "",
     "evalue": "",
     "output_type": "error",
     "traceback": [
      "\u001b[1;31mThe Kernel crashed while executing code in the the current cell or a previous cell. Please review the code in the cell(s) to identify a possible cause of the failure. Click <a href='https://aka.ms/vscodeJupyterKernelCrash'>here</a> for more info. View Jupyter <a href='command:jupyter.viewOutput'>log</a> for further details."
     ]
    }
   ],
   "source": [
    "!pip3 install tritonclient[all]"
   ]
  },
  {
   "cell_type": "code",
   "execution_count": 9,
   "metadata": {},
   "outputs": [
    {
     "name": "stderr",
     "output_type": "stream",
     "text": [
      "python: can't open file 'c:\\\\Users\\\\phil0\\\\DS\\\\triton_client\\\\src\\\\python\\\\notebooks\\\\which': [Errno 2] No such file or directory\n"
     ]
    }
   ],
   "source": [
    "!python which"
   ]
  },
  {
   "cell_type": "code",
   "execution_count": 8,
   "metadata": {},
   "outputs": [
    {
     "ename": "ModuleNotFoundError",
     "evalue": "No module named 'tritonclient'",
     "output_type": "error",
     "traceback": [
      "\u001b[1;31m---------------------------------------------------------------------------\u001b[0m",
      "\u001b[1;31mModuleNotFoundError\u001b[0m                       Traceback (most recent call last)",
      "Cell \u001b[1;32mIn [8], line 1\u001b[0m\n\u001b[1;32m----> 1\u001b[0m \u001b[39mimport\u001b[39;00m \u001b[39mtritonclient\u001b[39;00m\n",
      "\u001b[1;31mModuleNotFoundError\u001b[0m: No module named 'tritonclient'"
     ]
    }
   ],
   "source": [
    "import tritonclient"
   ]
  },
  {
   "cell_type": "code",
   "execution_count": 9,
   "metadata": {},
   "outputs": [
    {
     "ename": "ModuleNotFoundError",
     "evalue": "No module named 'tritonclient'",
     "output_type": "error",
     "traceback": [
      "\u001b[1;31m---------------------------------------------------------------------------\u001b[0m",
      "\u001b[1;31mModuleNotFoundError\u001b[0m                       Traceback (most recent call last)",
      "Cell \u001b[1;32mIn [9], line 10\u001b[0m\n\u001b[0;32m      6\u001b[0m \u001b[39mimport\u001b[39;00m \u001b[39mstruct\u001b[39;00m\n\u001b[0;32m      8\u001b[0m \u001b[39mimport\u001b[39;00m \u001b[39mgrpc\u001b[39;00m\n\u001b[1;32m---> 10\u001b[0m \u001b[39mfrom\u001b[39;00m \u001b[39mtritonclient\u001b[39;00m\u001b[39m.\u001b[39;00m\u001b[39mgrpc\u001b[39;00m \u001b[39mimport\u001b[39;00m service_pb2, service_pb2_grpc\n\u001b[0;32m     11\u001b[0m \u001b[39mimport\u001b[39;00m \u001b[39mtritonclient\u001b[39;00m\u001b[39m.\u001b[39;00m\u001b[39mgrpc\u001b[39;00m\u001b[39m.\u001b[39;00m\u001b[39mmodel_config_pb2\u001b[39;00m \u001b[39mas\u001b[39;00m \u001b[39mmc\u001b[39;00m\n\u001b[0;32m     14\u001b[0m \u001b[39m# Create gRPC stub for communicating with the server\u001b[39;00m\n",
      "\u001b[1;31mModuleNotFoundError\u001b[0m: No module named 'tritonclient'"
     ]
    }
   ],
   "source": [
    "import argparse\n",
    "import numpy as np\n",
    "from PIL import Image\n",
    "import os\n",
    "import sys\n",
    "import struct\n",
    "\n",
    "import grpc\n",
    "\n",
    "from tritonclient.grpc import service_pb2, service_pb2_grpc\n",
    "import tritonclient.grpc.model_config_pb2 as mc\n",
    "\n",
    "\n",
    "# Create gRPC stub for communicating with the server\n",
    "url = 'localhost:8001'\n",
    "channel = grpc.insecure_channel(url)"
   ]
  },
  {
   "cell_type": "code",
   "execution_count": null,
   "metadata": {},
   "outputs": [],
   "source": []
  }
 ],
 "metadata": {
  "kernelspec": {
   "display_name": "Python 3.10.1 64-bit",
   "language": "python",
   "name": "python3"
  },
  "language_info": {
   "codemirror_mode": {
    "name": "ipython",
    "version": 3
   },
   "file_extension": ".py",
   "mimetype": "text/x-python",
   "name": "python",
   "nbconvert_exporter": "python",
   "pygments_lexer": "ipython3",
   "version": "3.10.1"
  },
  "orig_nbformat": 4,
  "vscode": {
   "interpreter": {
    "hash": "369f2c481f4da34e4445cda3fffd2e751bd1c4d706f27375911949ba6bb62e1c"
   }
  }
 },
 "nbformat": 4,
 "nbformat_minor": 2
}
